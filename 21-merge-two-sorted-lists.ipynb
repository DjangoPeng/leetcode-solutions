{
 "cells": [
  {
   "cell_type": "code",
   "execution_count": 2,
   "metadata": {},
   "outputs": [],
   "source": [
    "class ListNode:\n",
    "    def __init__(self, x):\n",
    "        self.val = x\n",
    "        self.next = None"
   ]
  },
  {
   "cell_type": "code",
   "execution_count": 3,
   "metadata": {},
   "outputs": [],
   "source": [
    "class Solution:\n",
    "    def mergeTwoLists(self, l1: ListNode, l2: ListNode) -> ListNode:\n",
    "        head = ListNode(0)\n",
    "        node = head\n",
    "        while l1 and l2:\n",
    "            if l1.val < l2.val:\n",
    "                node.next = ListNode(l1.val)\n",
    "                node = node.next\n",
    "                l1 = l1.next\n",
    "            else:\n",
    "                node.next = ListNode(l2.val)\n",
    "                node = node.next\n",
    "                l2 = l2.next\n",
    "\n",
    "        l = None        \n",
    "        if l1:\n",
    "            l = l1\n",
    "        if l2:\n",
    "            l = l2\n",
    "        while l:\n",
    "            node.next = ListNode(l.val)\n",
    "            node = node.next         \n",
    "            l = l.next\n",
    "        return head.next"
   ]
  },
  {
   "cell_type": "code",
   "execution_count": null,
   "metadata": {},
   "outputs": [],
   "source": [
    "s = Solution()\n",
    "s.mergeTwoLists(1->2->4, 1->3->4)"
   ]
  }
 ],
 "metadata": {
  "kernelspec": {
   "display_name": "py3",
   "language": "python",
   "name": "py3"
  },
  "language_info": {
   "codemirror_mode": {
    "name": "ipython",
    "version": 3
   },
   "file_extension": ".py",
   "mimetype": "text/x-python",
   "name": "python",
   "nbconvert_exporter": "python",
   "pygments_lexer": "ipython3",
   "version": "3.6.3"
  }
 },
 "nbformat": 4,
 "nbformat_minor": 2
}
