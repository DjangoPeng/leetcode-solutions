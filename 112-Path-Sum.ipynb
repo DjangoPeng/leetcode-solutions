{
 "cells": [
  {
   "cell_type": "code",
   "execution_count": null,
   "metadata": {},
   "outputs": [],
   "source": [
    "# Definition for a binary tree node.\n",
    "# class TreeNode:\n",
    "#     def __init__(self, x):\n",
    "#         self.val = x\n",
    "#         self.left = None\n",
    "#         self.right = None\n",
    "\n",
    "class Solution:\n",
    "    def hasPathSum(self, root: TreeNode, sum: int) -> bool:\n",
    "        # Check the boundary\n",
    "        if root is None:\n",
    "            return False\n",
    "\n",
    "        self.sum = sum\n",
    "        self.flag = False\n",
    "        def dfs(node: TreeNode, count: int):\n",
    "            # We've got it, return\n",
    "            if self.flag:\n",
    "                return\n",
    "            if node:\n",
    "                # We find it!\n",
    "                if node.val + count == self.sum and node.left is None and node.right is None:\n",
    "                    self.flag = True\n",
    "                    return\n",
    "                dfs(node.left, count+node.val)\n",
    "                dfs(node.right, count+node.val)\n",
    "\n",
    "            return\n",
    "        dfs(root, 0)\n",
    "        \n",
    "        return self.flag"
   ]
  }
 ],
 "metadata": {
  "kernelspec": {
   "display_name": "Python 3",
   "language": "python",
   "name": "python3"
  },
  "language_info": {
   "codemirror_mode": {
    "name": "ipython",
    "version": 3
   },
   "file_extension": ".py",
   "mimetype": "text/x-python",
   "name": "python",
   "nbconvert_exporter": "python",
   "pygments_lexer": "ipython3",
   "version": "3.6.3"
  }
 },
 "nbformat": 4,
 "nbformat_minor": 2
}
