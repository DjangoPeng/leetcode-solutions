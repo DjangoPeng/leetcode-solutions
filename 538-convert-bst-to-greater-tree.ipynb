{
 "cells": [
  {
   "cell_type": "code",
   "execution_count": null,
   "metadata": {},
   "outputs": [],
   "source": [
    "# Definition for a binary tree node.\n",
    "# class TreeNode:\n",
    "#     def __init__(self, x):\n",
    "#         self.val = x\n",
    "#         self.left = None\n",
    "#         self.right = None\n",
    "\n",
    "class Solution:\n",
    "    def convertBST(self, root: TreeNode) -> TreeNode:\n",
    "        vals = []\n",
    "        \n",
    "        # Get values of all nodes\n",
    "        def dfs(node):\n",
    "            if node is None:\n",
    "                return\n",
    "            vals.append(node.val)\n",
    "            dfs(node.left)\n",
    "            dfs(node.right)\n",
    "        \n",
    "        dfs(root)\n",
    "        vals.sort()\n",
    "        \n",
    "        n = len(vals)\n",
    "        \n",
    "        # Convert each node \n",
    "        def convert(node):\n",
    "            if node is None:\n",
    "                return\n",
    "            \n",
    "            node.val += sum(vals[vals.index(node.val)+1:])\n",
    "\n",
    "            convert(node.left)\n",
    "            convert(node.right)\n",
    "            \n",
    "        convert(root)\n",
    "        \n",
    "        return root"
   ]
  }
 ],
 "metadata": {
  "kernelspec": {
   "display_name": "Python 3",
   "language": "python",
   "name": "python3"
  },
  "language_info": {
   "codemirror_mode": {
    "name": "ipython",
    "version": 3
   },
   "file_extension": ".py",
   "mimetype": "text/x-python",
   "name": "python",
   "nbconvert_exporter": "python",
   "pygments_lexer": "ipython3",
   "version": "3.6.3"
  }
 },
 "nbformat": 4,
 "nbformat_minor": 2
}
