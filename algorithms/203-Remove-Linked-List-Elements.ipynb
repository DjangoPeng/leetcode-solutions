{
 "cells": [
  {
   "cell_type": "code",
   "execution_count": 2,
   "metadata": {},
   "outputs": [],
   "source": [
    "# Definition for singly-linked list.\n",
    "# class ListNode(object):\n",
    "#     def __init__(self, x):\n",
    "#         self.val = x\n",
    "#         self.next = None\n",
    "\n",
    "class Solution(object):\n",
    "    def removeElements(self, head, val):\n",
    "        \"\"\"\n",
    "        :type head: ListNode\n",
    "        :type val: int\n",
    "        :rtype: ListNode\n",
    "        \"\"\"\n",
    "        # Pre-process\n",
    "        while head and head.val == val:\n",
    "            head = head.next\n",
    "\n",
    "        if head is None:\n",
    "            return None        \n",
    "        \n",
    "        node = head.next\n",
    "        last = head\n",
    "        while node:\n",
    "            while node and node.val == val:\n",
    "                node = node.next\n",
    "            last.next = node\n",
    "            last = last.next\n",
    "            if node:\n",
    "                node = node.next\n",
    "\n",
    "        return head"
   ]
  },
  {
   "cell_type": "code",
   "execution_count": 3,
   "metadata": {},
   "outputs": [],
   "source": [
    "s = Solution()"
   ]
  },
  {
   "cell_type": "code",
   "execution_count": null,
   "metadata": {},
   "outputs": [],
   "source": [
    "s.removeElements()"
   ]
  }
 ],
 "metadata": {
  "kernelspec": {
   "display_name": "Python 3",
   "language": "python",
   "name": "python3"
  },
  "language_info": {
   "codemirror_mode": {
    "name": "ipython",
    "version": 3
   },
   "file_extension": ".py",
   "mimetype": "text/x-python",
   "name": "python",
   "nbconvert_exporter": "python",
   "pygments_lexer": "ipython3",
   "version": "3.6.3"
  }
 },
 "nbformat": 4,
 "nbformat_minor": 2
}
