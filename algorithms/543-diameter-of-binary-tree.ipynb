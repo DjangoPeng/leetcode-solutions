{
 "cells": [
  {
   "cell_type": "code",
   "execution_count": null,
   "metadata": {},
   "outputs": [],
   "source": [
    "# Definition for a binary tree node.\n",
    "# class TreeNode:\n",
    "#     def __init__(self, x):\n",
    "#         self.val = x\n",
    "#         self.left = None\n",
    "#         self.right = None\n",
    "\n",
    "class Solution:\n",
    "    def diameterOfBinaryTree(self, root: TreeNode) -> int:\n",
    "        if root is None:\n",
    "            return 0\n",
    "        \n",
    "        self.diameter = 0\n",
    "        \n",
    "        def dfs(node, level):\n",
    "            if node is None:\n",
    "                return level\n",
    "            \n",
    "            left = dfs(node.left, level + 1)\n",
    "            right = dfs(node.right, level + 1)\n",
    "            \n",
    "            if left + right - 2*(level+1) > self.diameter:\n",
    "                self.diameter = left + right - 2*(level+1)\n",
    "                \n",
    "            return max(left, right)\n",
    "        \n",
    "        dfs(root, 0)\n",
    "        \n",
    "        return self.diameter"
   ]
  }
 ],
 "metadata": {
  "kernelspec": {
   "display_name": "Python 3",
   "language": "python",
   "name": "python3"
  },
  "language_info": {
   "codemirror_mode": {
    "name": "ipython",
    "version": 3
   },
   "file_extension": ".py",
   "mimetype": "text/x-python",
   "name": "python",
   "nbconvert_exporter": "python",
   "pygments_lexer": "ipython3",
   "version": "3.6.3"
  }
 },
 "nbformat": 4,
 "nbformat_minor": 2
}
