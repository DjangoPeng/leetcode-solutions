{
 "cells": [
  {
   "cell_type": "code",
   "execution_count": null,
   "metadata": {},
   "outputs": [],
   "source": [
    "# Definition for a binary tree node.\n",
    "# class TreeNode:\n",
    "#     def __init__(self, x):\n",
    "#         self.val = x\n",
    "#         self.left = None\n",
    "#         self.right = None\n",
    "\n",
    "class Solution:\n",
    "    def minDepth(self, root: TreeNode) -> int:        \n",
    "        if root is None:\n",
    "            return 0\n",
    "        \n",
    "        def dfs(node: TreeNode, depth: int):\n",
    "            # deeper than self.depth, return\n",
    "            if depth > self.depth:\n",
    "                return\n",
    "            if node:\n",
    "                # leaf node, return\n",
    "                if node.left is None and node.right is None and self.depth > depth:\n",
    "                    self.depth = depth\n",
    "                    return\n",
    "                dfs(node.left, depth+1)\n",
    "                dfs(node.right, depth+1)\n",
    "            \n",
    "            return\n",
    "        \n",
    "        self.depth = 2**31\n",
    "        dfs(root, 1)\n",
    "        return self.depth"
   ]
  }
 ],
 "metadata": {
  "kernelspec": {
   "display_name": "Python 3",
   "language": "python",
   "name": "python3"
  },
  "language_info": {
   "codemirror_mode": {
    "name": "ipython",
    "version": 3
   },
   "file_extension": ".py",
   "mimetype": "text/x-python",
   "name": "python",
   "nbconvert_exporter": "python",
   "pygments_lexer": "ipython3",
   "version": "3.6.3"
  }
 },
 "nbformat": 4,
 "nbformat_minor": 2
}
