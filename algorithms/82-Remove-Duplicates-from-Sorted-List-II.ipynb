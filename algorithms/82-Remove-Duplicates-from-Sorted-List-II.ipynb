{
 "cells": [
  {
   "cell_type": "code",
   "execution_count": null,
   "metadata": {},
   "outputs": [],
   "source": [
    "# Definition for singly-linked list.\n",
    "# class ListNode:\n",
    "#     def __init__(self, x):\n",
    "#         self.val = x\n",
    "#         self.next = None\n",
    "\n",
    "class Solution:\n",
    "    def deleteDuplicates(self, head: ListNode) -> ListNode:\n",
    "        # remove duplicated elements of prefix\n",
    "        while head and head.next:\n",
    "            now = head.next\n",
    "            if head.val != now.val:\n",
    "                break\n",
    "            while now and head.val == now.val:\n",
    "                now = now.next\n",
    "            head = now\n",
    "        # if head is not None, process the rest\n",
    "        if head and head.next:\n",
    "            last = head\n",
    "            now = head.next            \n",
    "            is_duplicated = False\n",
    "            while now.next:\n",
    "                if now.val == now.next.val:\n",
    "                    now.next = now.next.next\n",
    "                    is_duplicated = True\n",
    "                else:\n",
    "                    # remove the duplicated elements\n",
    "                    if is_duplicated:\n",
    "                        # now -> the new element\n",
    "                        now = now.next\n",
    "                        # temporarily connection\n",
    "                        last.next = now\n",
    "                        # reset is_duplicated\n",
    "                        is_duplicated = False\n",
    "                    # if the next is a new element, solid connection\n",
    "                    else:\n",
    "                        last = last.next\n",
    "                        now = now.next\n",
    "            # the last elelment is also duplicated\n",
    "            if is_duplicated:\n",
    "                last.next = None\n",
    "\n",
    "        return head"
   ]
  }
 ],
 "metadata": {
  "kernelspec": {
   "display_name": "Python 3",
   "language": "python",
   "name": "python3"
  },
  "language_info": {
   "codemirror_mode": {
    "name": "ipython",
    "version": 3
   },
   "file_extension": ".py",
   "mimetype": "text/x-python",
   "name": "python",
   "nbconvert_exporter": "python",
   "pygments_lexer": "ipython3",
   "version": "3.6.3"
  }
 },
 "nbformat": 4,
 "nbformat_minor": 2
}
