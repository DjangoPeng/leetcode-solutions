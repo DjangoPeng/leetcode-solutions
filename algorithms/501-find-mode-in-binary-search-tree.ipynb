{
 "cells": [
  {
   "cell_type": "code",
   "execution_count": 16,
   "metadata": {},
   "outputs": [],
   "source": [
    "# Definition for a binary tree node.\n",
    "# class TreeNode(object):\n",
    "#     def __init__(self, x):\n",
    "#         self.val = x\n",
    "#         self.left = None\n",
    "#         self.right = None\n",
    "\n",
    "from collections import Counter\n",
    "\n",
    "class Solution(object):\n",
    "    def findMode(self, root):\n",
    "        \"\"\"\n",
    "        :type root: TreeNode\n",
    "        :rtype: List[int]\n",
    "        \"\"\"\n",
    "        if root is None:\n",
    "            return []\n",
    "        \n",
    "        cnt = Counter()\n",
    "        \n",
    "        def dfs(node):\n",
    "            if node is None:\n",
    "                return\n",
    "            cnt[node.val] += 1\n",
    "            dfs(node.left)\n",
    "            dfs(node.right)\n",
    "\n",
    "            return\n",
    "        \n",
    "        dfs(root)\n",
    "        \n",
    "        max = cnt.most_common(1)[0][1]\n",
    "        ret = []\n",
    "        for x in cnt.most_common():\n",
    "            if max == x[1]:\n",
    "                ret.append(x[0])\n",
    "\n",
    "        return ret"
   ]
  },
  {
   "cell_type": "code",
   "execution_count": null,
   "metadata": {},
   "outputs": [],
   "source": []
  }
 ],
 "metadata": {
  "kernelspec": {
   "display_name": "Python 3",
   "language": "python",
   "name": "python3"
  },
  "language_info": {
   "codemirror_mode": {
    "name": "ipython",
    "version": 3
   },
   "file_extension": ".py",
   "mimetype": "text/x-python",
   "name": "python",
   "nbconvert_exporter": "python",
   "pygments_lexer": "ipython3",
   "version": "3.6.3"
  }
 },
 "nbformat": 4,
 "nbformat_minor": 2
}
