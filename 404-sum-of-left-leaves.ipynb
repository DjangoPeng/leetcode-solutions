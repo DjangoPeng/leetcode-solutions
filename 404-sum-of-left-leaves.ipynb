{
 "cells": [
  {
   "cell_type": "code",
   "execution_count": 1,
   "metadata": {},
   "outputs": [],
   "source": [
    "# Definition for a binary tree node.\n",
    "# class TreeNode(object):\n",
    "#     def __init__(self, x):\n",
    "#         self.val = x\n",
    "#         self.left = None\n",
    "#         self.right = None\n",
    "\n",
    "class Solution(object):\n",
    "    def sumOfLeftLeaves(self, root):\n",
    "        \"\"\"\n",
    "        :type root: TreeNode\n",
    "        :rtype: int\n",
    "        \"\"\"\n",
    "        if root is None:\n",
    "            return 0\n",
    "        \n",
    "        self.sum = 0\n",
    "        \n",
    "        def findLeaves(node):\n",
    "            if node is None:\n",
    "                return False\n",
    "            \n",
    "            if node.left is None and node.right is None:\n",
    "                return True\n",
    "            \n",
    "            if findLeaves(node.left):\n",
    "                self.sum = self.sum + node.left.val\n",
    "            \n",
    "            findLeaves(node.right)\n",
    "            return False\n",
    "        \n",
    "        findLeaves(root)\n",
    "        \n",
    "        return self.sum"
   ]
  },
  {
   "cell_type": "code",
   "execution_count": null,
   "metadata": {},
   "outputs": [],
   "source": []
  }
 ],
 "metadata": {
  "kernelspec": {
   "display_name": "Python 3",
   "language": "python",
   "name": "python3"
  },
  "language_info": {
   "codemirror_mode": {
    "name": "ipython",
    "version": 3
   },
   "file_extension": ".py",
   "mimetype": "text/x-python",
   "name": "python",
   "nbconvert_exporter": "python",
   "pygments_lexer": "ipython3",
   "version": "3.6.3"
  }
 },
 "nbformat": 4,
 "nbformat_minor": 2
}
