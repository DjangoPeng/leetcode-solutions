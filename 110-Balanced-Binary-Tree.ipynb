{
 "cells": [
  {
   "cell_type": "code",
   "execution_count": null,
   "metadata": {},
   "outputs": [],
   "source": [
    "# Definition for a binary tree node.\n",
    "# class TreeNode:\n",
    "#     def __init__(self, x):\n",
    "#         self.val = x\n",
    "#         self.left = None\n",
    "#         self.right = None\n",
    "\n",
    "class Solution:\n",
    "    def isBalanced(self, root: TreeNode) -> bool:\n",
    "        if root is None:\n",
    "            return True\n",
    "        \n",
    "        self.flag = True\n",
    "        def dfs(node: TreeNode, depth: int) -> int:\n",
    "            # non-balanced, return directly\n",
    "            if self.flag is False:\n",
    "                return depth\n",
    "            # non-node, return directly\n",
    "            if node is None:\n",
    "                return depth-1\n",
    "            \n",
    "            left = dfs(node.left, depth+1)\n",
    "            right = dfs(node.right, depth+1)\n",
    "            \n",
    "            if abs(left - right) > 1:\n",
    "                self.flag = False\n",
    "            return max(left, right)\n",
    "        \n",
    "        dfs(root, 1) \n",
    "\n",
    "        return self.flag"
   ]
  },
  {
   "cell_type": "code",
   "execution_count": null,
   "metadata": {},
   "outputs": [],
   "source": []
  }
 ],
 "metadata": {
  "kernelspec": {
   "display_name": "Python 3",
   "language": "python",
   "name": "python3"
  },
  "language_info": {
   "codemirror_mode": {
    "name": "ipython",
    "version": 3
   },
   "file_extension": ".py",
   "mimetype": "text/x-python",
   "name": "python",
   "nbconvert_exporter": "python",
   "pygments_lexer": "ipython3",
   "version": "3.6.3"
  }
 },
 "nbformat": 4,
 "nbformat_minor": 2
}
